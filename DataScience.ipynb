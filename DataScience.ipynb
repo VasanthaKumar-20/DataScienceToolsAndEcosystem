{
 "cells": [
  {
   "cell_type": "markdown",
   "id": "cfa42779",
   "metadata": {},
   "source": [
    "# Data Science Tools and Ecosystem"
   ]
  },
  {
   "cell_type": "markdown",
   "id": "45efe4e0",
   "metadata": {},
   "source": [
    "In this notebook, Data Science Tools and Ecosystem are summarized."
   ]
  },
  {
   "cell_type": "markdown",
   "id": "30380bbb",
   "metadata": {},
   "source": [
    "## Some of the popular languages that Data Scientists use are:"
   ]
  },
  {
   "cell_type": "markdown",
   "id": "53687edd",
   "metadata": {},
   "source": [
    "- Python \n",
    "- SQL (Structured Query Language)\n",
    "- R\n",
    "- Julia\n",
    "- Java Script"
   ]
  },
  {
   "cell_type": "markdown",
   "id": "ea46b291",
   "metadata": {},
   "source": [
    "### Objectives:"
   ]
  },
  {
   "cell_type": "markdown",
   "id": "404ad648",
   "metadata": {},
   "source": [
    "1. Introduction to Jupyter Notebooks\n",
    "2. Python Programming Basics\n",
    "3. Data Manipulation with Pandas"
   ]
  },
  {
   "cell_type": "markdown",
   "id": "e96ac14c",
   "metadata": {},
   "source": [
    "## Some of the commonly used libraries used by Data Scientists include:"
   ]
  },
  {
   "cell_type": "markdown",
   "id": "a5a0f3c5",
   "metadata": {},
   "source": [
    "1. NumPy\n",
    "2. SciPy\n",
    "3. Pandas\n",
    "4. Keras"
   ]
  },
  {
   "cell_type": "markdown",
   "id": "6debf956",
   "metadata": {},
   "source": [
    "| Data Science Tools   |\n",
    "|--------------------  |\n",
    "|1. Jupyter Notebook   |\n",
    "|2. R Studio           |\n",
    "|3. VS code with Python|\n"
   ]
  },
  {
   "cell_type": "markdown",
   "id": "e877e019",
   "metadata": {},
   "source": [
    "### Below are a few examples of evaluating arithmetic expressions in Python"
   ]
  },
  {
   "cell_type": "code",
   "execution_count": 1,
   "id": "18b9cf59",
   "metadata": {},
   "outputs": [
    {
     "name": "stdout",
     "output_type": "stream",
     "text": [
      "\n",
      " sum= 30\n"
     ]
    }
   ],
   "source": [
    "a=10\n",
    "b=20\n",
    "sum=a+b\n",
    "print(\"\\n sum=\",sum)"
   ]
  },
  {
   "cell_type": "markdown",
   "id": "d4e19e22",
   "metadata": {},
   "source": [
    "### This a simple arithmetic expression to mutiply then add integers"
   ]
  },
  {
   "cell_type": "code",
   "execution_count": 2,
   "id": "5b70cc35",
   "metadata": {},
   "outputs": [
    {
     "name": "stdout",
     "output_type": "stream",
     "text": [
      "\n",
      " Ans= 17\n"
     ]
    }
   ],
   "source": [
    "print(\"\\n Ans=\",(3*4)+5)"
   ]
  },
  {
   "cell_type": "markdown",
   "id": "3d8deaa0",
   "metadata": {},
   "source": [
    "###  This will convert 200 minutes to hours by diving by 60"
   ]
  },
  {
   "cell_type": "code",
   "execution_count": 4,
   "id": "35f3ae85",
   "metadata": {},
   "outputs": [
    {
     "name": "stdout",
     "output_type": "stream",
     "text": [
      "In Hrs= 3.3333333333333335\n"
     ]
    }
   ],
   "source": [
    "a=200 #in minutes\n",
    "print(\"In Hrs=\",200/60)\n"
   ]
  },
  {
   "cell_type": "markdown",
   "id": "6bcf126c",
   "metadata": {},
   "source": [
    "## AUTHOR:\n",
    "## Vasantha Kumar .V"
   ]
  },
  {
   "cell_type": "code",
   "execution_count": null,
   "id": "1cbdd616",
   "metadata": {},
   "outputs": [],
   "source": []
  }
 ],
 "metadata": {
  "kernelspec": {
   "display_name": "Python 3 (ipykernel)",
   "language": "python",
   "name": "python3"
  },
  "language_info": {
   "codemirror_mode": {
    "name": "ipython",
    "version": 3
   },
   "file_extension": ".py",
   "mimetype": "text/x-python",
   "name": "python",
   "nbconvert_exporter": "python",
   "pygments_lexer": "ipython3",
   "version": "3.11.4"
  }
 },
 "nbformat": 4,
 "nbformat_minor": 5
}
